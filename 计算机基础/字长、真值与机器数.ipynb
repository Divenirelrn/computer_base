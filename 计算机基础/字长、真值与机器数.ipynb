{
 "cells": [
  {
   "cell_type": "markdown",
   "metadata": {},
   "source": [
    "计算机字长：CPU一次操作可以处理的二进制比特数(0或1), 1字长 = 1 bit，一般为32位或64位"
   ]
  },
  {
   "cell_type": "markdown",
   "metadata": {},
   "source": [
    "真值与机器数：<br/>\n",
    "机器数是将符号\"数字化\"的数，是数字在计算机中的二进制表示形式。因为有符号占据一位，数的形式值就不等于真正的数值，带符号位的机器数对应的数值称为机器数的真值。 例如二进制真值数-0110110，它的机器数为 10110110。"
   ]
  },
  {
   "cell_type": "code",
   "execution_count": null,
   "metadata": {},
   "outputs": [],
   "source": []
  }
 ],
 "metadata": {
  "kernelspec": {
   "display_name": "Python 3",
   "language": "python",
   "name": "python3"
  },
  "language_info": {
   "codemirror_mode": {
    "name": "ipython",
    "version": 3
   },
   "file_extension": ".py",
   "mimetype": "text/x-python",
   "name": "python",
   "nbconvert_exporter": "python",
   "pygments_lexer": "ipython3",
   "version": "3.7.6"
  }
 },
 "nbformat": 4,
 "nbformat_minor": 4
}
